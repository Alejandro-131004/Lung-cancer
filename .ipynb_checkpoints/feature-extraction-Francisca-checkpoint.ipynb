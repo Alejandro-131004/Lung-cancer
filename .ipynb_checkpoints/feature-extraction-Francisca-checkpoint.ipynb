{
 "cells": [
  {
   "cell_type": "markdown",
   "id": "48a3fe7b-01d5-4638-9500-491070dd5c02",
   "metadata": {},
   "source": [
    "The Fourier Transform is a mathematical technique that decomposes an image into its frequency components, allowing for the analysis of textural patterns. We decided to add Fourier-based features to the radiomics features due to insights from the article [colocar o artigo que li]. The output is a matrix representing the intensity of the frequencies present in the image.\n",
    "\n",
    "However, this matrix can have high dimensionality, making it difficult to handle and interpret. To simplify the analysis, we chose to work with only four significant parameters: mean, maximum, minimum, and standard deviation of the magnitude spectrum. If we used the full matrix, the resulting CSV file would exceed 1 GB, making the analysis impractical."
   ]
  },
  {
   "cell_type": "code",
   "execution_count": 19,
   "id": "0c110d55-430b-4324-90bf-bca1a24840ad",
   "metadata": {},
   "outputs": [
    {
     "name": "stdout",
     "output_type": "stream",
     "text": [
      "Loading dicom files ... This may take a moment.\n",
      "Loading dicom files ... This may take a moment.\n",
      "Loading dicom files ... This may take a moment.\n",
      "Loading dicom files ... This may take a moment.\n",
      "Loading dicom files ... This may take a moment.\n",
      "Loading dicom files ... This may take a moment.\n",
      "Loading dicom files ... This may take a moment.\n",
      "Loading dicom files ... This may take a moment.\n"
     ]
    },
    {
     "name": "stderr",
     "output_type": "stream",
     "text": [
      "GLCM is symmetrical, therefore Sum Average = 2 * Joint Average, only 1 needs to be calculated\n"
     ]
    },
    {
     "name": "stdout",
     "output_type": "stream",
     "text": [
      "Scan dimensions: (512, 512, 113), Mask dimensions: (67, 62, 5)\n",
      "Scan dimensions: (512, 512, 112), Mask dimensions: (71, 70, 8)\n"
     ]
    },
    {
     "name": "stderr",
     "output_type": "stream",
     "text": [
      "GLCM is symmetrical, therefore Sum Average = 2 * Joint Average, only 1 needs to be calculated\n",
      "GLCM is symmetrical, therefore Sum Average = 2 * Joint Average, only 1 needs to be calculated\n",
      "GLCM is symmetrical, therefore Sum Average = 2 * Joint Average, only 1 needs to be calculated\n"
     ]
    },
    {
     "name": "stdout",
     "output_type": "stream",
     "text": [
      "Scan dimensions: (512, 512, 125), Mask dimensions: (57, 57, 4)\n",
      "Scan dimensions: (512, 512, 125), Mask dimensions: (54, 53, 3)\n"
     ]
    },
    {
     "name": "stderr",
     "output_type": "stream",
     "text": [
      "GLCM is symmetrical, therefore Sum Average = 2 * Joint Average, only 1 needs to be calculated\n",
      "GLCM is symmetrical, therefore Sum Average = 2 * Joint Average, only 1 needs to be calculated\n",
      "GLCM is symmetrical, therefore Sum Average = 2 * Joint Average, only 1 needs to be calculated\n",
      "GLCM is symmetrical, therefore Sum Average = 2 * Joint Average, only 1 needs to be calculated\n"
     ]
    },
    {
     "name": "stdout",
     "output_type": "stream",
     "text": [
      "Scan dimensions: (512, 512, 87), Mask dimensions: (74, 84, 6)\n",
      "Scan dimensions: (512, 512, 150), Mask dimensions: (61, 48, 2)\n",
      "Scan dimensions: (512, 512, 127), Mask dimensions: (55, 54, 3)\n",
      "Scan dimensions: (512, 512, 87), Mask dimensions: (80, 67, 6)\n",
      "Scan dimensions: (512, 512, 127), Mask dimensions: (51, 53, 3)\n"
     ]
    },
    {
     "name": "stderr",
     "output_type": "stream",
     "text": [
      "GLCM is symmetrical, therefore Sum Average = 2 * Joint Average, only 1 needs to be calculated\n",
      "GLCM is symmetrical, therefore Sum Average = 2 * Joint Average, only 1 needs to be calculated\n",
      "GLCM is symmetrical, therefore Sum Average = 2 * Joint Average, only 1 needs to be calculated\n"
     ]
    },
    {
     "name": "stdout",
     "output_type": "stream",
     "text": [
      "Scan dimensions: (512, 512, 87), Mask dimensions: (48, 47, 2)\n",
      "Scan dimensions: (512, 512, 127), Mask dimensions: (61, 55, 1)\n",
      "Scan dimensions: (512, 512, 87), Mask dimensions: (90, 80, 8)\n"
     ]
    },
    {
     "name": "stderr",
     "output_type": "stream",
     "text": [
      "GLCM is symmetrical, therefore Sum Average = 2 * Joint Average, only 1 needs to be calculated\n",
      "GLCM is symmetrical, therefore Sum Average = 2 * Joint Average, only 1 needs to be calculated\n",
      "GLCM is symmetrical, therefore Sum Average = 2 * Joint Average, only 1 needs to be calculated\n",
      "GLCM is symmetrical, therefore Sum Average = 2 * Joint Average, only 1 needs to be calculated\n",
      "GLCM is symmetrical, therefore Sum Average = 2 * Joint Average, only 1 needs to be calculated\n"
     ]
    },
    {
     "name": "stdout",
     "output_type": "stream",
     "text": [
      "Scan dimensions: (512, 512, 127), Mask dimensions: (80, 103, 6)\n",
      "Scan dimensions: (512, 512, 136), Mask dimensions: (66, 59, 9)\n",
      "Scan dimensions: (512, 512, 136), Mask dimensions: (46, 47, 1)\n",
      "Scan dimensions: (512, 512, 127), Mask dimensions: (58, 54, 1)\n",
      "Scan dimensions: (512, 512, 136), Mask dimensions: (69, 83, 11)\n",
      "Scan dimensions: (512, 512, 127), Mask dimensions: (56, 55, 2)\n"
     ]
    },
    {
     "name": "stderr",
     "output_type": "stream",
     "text": [
      "GLCM is symmetrical, therefore Sum Average = 2 * Joint Average, only 1 needs to be calculated\n",
      "GLCM is symmetrical, therefore Sum Average = 2 * Joint Average, only 1 needs to be calculated\n",
      "GLCM is symmetrical, therefore Sum Average = 2 * Joint Average, only 1 needs to be calculated\n",
      "GLCM is symmetrical, therefore Sum Average = 2 * Joint Average, only 1 needs to be calculated\n",
      "GLCM is symmetrical, therefore Sum Average = 2 * Joint Average, only 1 needs to be calculated\n",
      "GLCM is symmetrical, therefore Sum Average = 2 * Joint Average, only 1 needs to be calculated\n",
      "GLCM is symmetrical, therefore Sum Average = 2 * Joint Average, only 1 needs to be calculated\n",
      "GLCM is symmetrical, therefore Sum Average = 2 * Joint Average, only 1 needs to be calculated\n",
      "GLCM is symmetrical, therefore Sum Average = 2 * Joint Average, only 1 needs to be calculated\n"
     ]
    },
    {
     "name": "stdout",
     "output_type": "stream",
     "text": [
      "Scan dimensions: (512, 512, 153), Mask dimensions: (49, 47, 1)\n",
      "Scan dimensions: (512, 512, 153), Mask dimensions: (51, 53, 2)\n",
      "Scan dimensions: (512, 512, 153), Mask dimensions: (49, 48, 2)\n",
      "Scan dimensions: (512, 512, 153), Mask dimensions: (54, 52, 3)\n",
      "Scan dimensions: (512, 512, 153), Mask dimensions: (56, 53, 3)\n",
      "Scan dimensions: (512, 512, 153), Mask dimensions: (51, 52, 3)\n",
      "Scan dimensions: (512, 512, 153), Mask dimensions: (72, 62, 6)\n",
      "Scan dimensions: (512, 512, 153), Mask dimensions: (53, 51, 2)\n"
     ]
    },
    {
     "name": "stderr",
     "output_type": "stream",
     "text": [
      "GLCM is symmetrical, therefore Sum Average = 2 * Joint Average, only 1 needs to be calculated\n",
      "GLCM is symmetrical, therefore Sum Average = 2 * Joint Average, only 1 needs to be calculated\n"
     ]
    },
    {
     "name": "stdout",
     "output_type": "stream",
     "text": [
      "Scan dimensions: (512, 512, 153), Mask dimensions: (50, 48, 2)\n"
     ]
    }
   ],
   "source": [
    "import pylidc as pl\n",
    "import SimpleITK as sitk\n",
    "import pandas as pd\n",
    "from radiomics import featureextractor\n",
    "import numpy as np\n",
    "import statistics\n",
    "from concurrent.futures import ThreadPoolExecutor\n",
    "from pylidc.utils import consensus\n",
    "from scipy.fftpack import fftn  # Import FFT 3D function\n",
    "\n",
    "# Initialize the feature extractor\n",
    "extractor = featureextractor.RadiomicsFeatureExtractor()\n",
    "\n",
    "# Query the LIDC-IDRI dataset for scans with annotations\n",
    "scans_with_annotations = pl.query(pl.Scan).filter(pl.Scan.annotations.any()).all()[:8]\n",
    "\n",
    "# Lists to store the extracted features\n",
    "features_list = []\n",
    "nodule_id_counter = 1\n",
    "\n",
    "# Function to calculate the mode or mean, depending on the case\n",
    "def calculate_value(value):\n",
    "    try:\n",
    "        return statistics.mode(value)\n",
    "    except statistics.StatisticsError:\n",
    "        return np.mean(value)\n",
    "\n",
    "def calculate_mean(value):\n",
    "    return np.mean(value)\n",
    "\n",
    "# Function to compute 3D Fourier Transform and return relevant metrics\n",
    "def calculate_fourier_3d(nodule_image):\n",
    "    # Apply 3D Fourier Transform (FFT)\n",
    "    fourier_transformed = fftn(nodule_image)\n",
    "    \n",
    "    # Extract magnitude spectrum (absolute values)\n",
    "    magnitude_spectrum = np.abs(fourier_transformed)\n",
    "    \n",
    "    # Compute some summary statistics of the magnitude spectrum\n",
    "    mean_spectrum = np.mean(magnitude_spectrum)\n",
    "    max_spectrum = np.max(magnitude_spectrum)\n",
    "    min_spectrum = np.min(magnitude_spectrum)\n",
    "    std_spectrum = np.std(magnitude_spectrum)\n",
    "    \n",
    "    return {\n",
    "        'fourier_mean': mean_spectrum,\n",
    "        'fourier_max': max_spectrum,\n",
    "        'fourier_min': min_spectrum,\n",
    "        'fourier_std': std_spectrum\n",
    "    }\n",
    "\n",
    "# Function to process a single scan and extract features\n",
    "def process_scan(scan):\n",
    "    global nodule_id_counter  # Keep track of nodule IDs across threads\n",
    "    feature_data = []\n",
    "\n",
    "    # Get the patient ID\n",
    "    patient_id = scan.patient_id\n",
    "\n",
    "    # Clusterize the annotations for the scan and retrieve all annotations\n",
    "    nods = scan.cluster_annotations()\n",
    "\n",
    "    # Use pylidc to stack DICOM slices into a 3D volume\n",
    "    scan_array = scan.to_volume()\n",
    "\n",
    "    # Handle pixel spacing depending on its type\n",
    "    if isinstance(scan.pixel_spacing, (list, tuple)):\n",
    "        spacing = (scan.pixel_spacing[0], scan.pixel_spacing[1], scan.slice_thickness)\n",
    "    else:\n",
    "        # Assuming the spacing is isotropic, if pixel_spacing is a single float\n",
    "        spacing = (scan.pixel_spacing, scan.pixel_spacing, scan.slice_thickness)\n",
    "\n",
    "    # Convert the NumPy array to a SimpleITK image for radiomics processing\n",
    "    scan_image = sitk.GetImageFromArray(scan_array)\n",
    "    scan_image.SetSpacing(spacing)\n",
    "\n",
    "    # Iterating through all nodules of the patient\n",
    "    for anns in nods:\n",
    "        if anns:\n",
    "            # Convert consensus annotations into a mask\n",
    "            cmask, _, _ = pl.utils.consensus(anns, clevel=0.5, pad=[(20, 20), (20, 20), (0, 0)])\n",
    "\n",
    "            # Check the dimensions of the scan_array and cmask\n",
    "            print(f\"Scan dimensions: {scan_array.shape}, Mask dimensions: {cmask.shape}\")\n",
    "\n",
    "            # Create a nodule image initialized to zeros with the same shape as the mask\n",
    "            nodule_image = np.zeros_like(cmask, dtype=scan_array.dtype)\n",
    "\n",
    "            # Fill the nodule_image based on the mask and corresponding region in scan_array\n",
    "            if cmask.shape[0] <= scan_array.shape[0]:  # Check depth\n",
    "                nodule_image[cmask > 0] = scan_array[\n",
    "                    np.where(cmask > 0)[0],\n",
    "                    np.where(cmask > 0)[1],\n",
    "                    np.where(cmask > 0)[2]\n",
    "                ]\n",
    "\n",
    "            # Convert the new nodule image to a SimpleITK image\n",
    "            nodule_image_sitk = sitk.GetImageFromArray(nodule_image)\n",
    "            nodule_image_sitk.SetSpacing(spacing)\n",
    "\n",
    "            # Convert the mask to a SimpleITK image\n",
    "            mask_image = sitk.GetImageFromArray(cmask.astype(np.uint8))\n",
    "            mask_image.SetSpacing(spacing)\n",
    "\n",
    "            # Extract radiomic features using PyRadiomics\n",
    "            features = extractor.execute(nodule_image_sitk, mask_image, label=1)\n",
    "\n",
    "            # Add the patient ID and a unique ID for the nodule\n",
    "            features['Patient_ID'] = patient_id\n",
    "            features['Nodule_ID'] = f'Nodule_{nodule_id_counter}'\n",
    "            nodule_id_counter += 1\n",
    "\n",
    "            # Calculate the additional annotation features for this nodule\n",
    "            subtlety_value = calculate_value([ann.subtlety for ann in anns])\n",
    "            internalStructure_value = calculate_value([ann.internalStructure for ann in anns])\n",
    "            calcification_value = calculate_value([ann.calcification for ann in anns])\n",
    "            sphericity_value = calculate_value([ann.sphericity for ann in anns])\n",
    "            margin_value = calculate_value([ann.margin for ann in anns])\n",
    "            lobulation_value = calculate_value([ann.lobulation for ann in anns])\n",
    "            spiculation_value = calculate_value([ann.spiculation for ann in anns])\n",
    "            texture_value = calculate_value([ann.texture for ann in anns])\n",
    "            malignancy_mode = calculate_value([ann.malignancy for ann in anns])\n",
    "            malignancy_mean = calculate_mean([ann.malignancy for ann in anns])\n",
    "\n",
    "            # Append these calculated values to the feature dictionary\n",
    "            features.update({\n",
    "                'subtlety': subtlety_value,\n",
    "                'internalStructure': internalStructure_value,\n",
    "                'calcification': calcification_value,\n",
    "                'sphericity': sphericity_value,\n",
    "                'margin': margin_value,\n",
    "                'lobulation': lobulation_value,\n",
    "                'spiculation': spiculation_value,\n",
    "                'texture': texture_value,\n",
    "                'malignancy_mode': malignancy_mode,\n",
    "                'malignancy_mean': malignancy_mean\n",
    "            })\n",
    "\n",
    "            # Calculate Fourier Transform 3D features\n",
    "            fourier_features = calculate_fourier_3d(nodule_image)\n",
    "            features.update(fourier_features)\n",
    "\n",
    "            # Add the features to the feature data\n",
    "            feature_data.append(features)\n",
    "    \n",
    "    return feature_data\n",
    "\n",
    "# Multithreaded execution\n",
    "with ThreadPoolExecutor(max_workers=8) as executor:\n",
    "    results = executor.map(process_scan, scans_with_annotations)\n",
    "\n",
    "# Collect results from all workers\n",
    "for result in results:\n",
    "    features_list.extend(result)\n",
    "\n",
    "# Create a DataFrame to store the features\n",
    "features_df = pd.DataFrame(features_list)\n",
    "\n",
    "# Reorder columns to move 'malignancy_mode' before 'malignancy_mean'\n",
    "columns = [col for col in features_df.columns if col not in ['malignancy_mean', 'malignancy_mode']]\n",
    "columns.extend(['malignancy_mode', 'malignancy_mean'])  # Add them with 'malignancy_mode' first\n",
    "\n",
    "# Reorganize the DataFrame\n",
    "features_df = features_df[columns]\n",
    "\n",
    "# Save the features to a CSV file\n",
    "features_df.to_csv('radiomic_features_pylidc_and_fourier.csv', index=False)\n"
   ]
  },
  {
   "cell_type": "code",
   "execution_count": 21,
   "id": "d565c725-876c-454c-aefe-5f89aa63d9d3",
   "metadata": {},
   "outputs": [
    {
     "data": {
      "image/png": "[encoded data removed]",
      "text/plain": [
       "<Figure size 800x600 with 1 Axes>"
      ]
     },
     "metadata": {},
     "output_type": "display_data"
    }
   ],
   "source": [
    "import pandas as pd\n",
    "import matplotlib.pyplot as plt\n",
    "\n",
    "# Leia o arquivo CSV gerado\n",
    "features_df = pd.read_csv('radiomic_features_pylidc_and_fourier.csv')\n",
    "\n",
    "# Visualize as primeiras linhas para verificar se as colunas estão corretas\n",
    "#print(features_df.head())\n",
    "\n",
    "# Selecione a coluna de malignidade (malignancy_mode ou malignancy_mean)\n",
    "malignancy_data = features_df['malignancy_mean']\n",
    "\n",
    "# Crie o boxplot usando apenas Matplotlib\n",
    "plt.figure(figsize=(8, 6))\n",
    "plt.boxplot(malignancy_data)\n",
    "\n",
    "# Adicione título e rótulos\n",
    "plt.title('Box Plot of Malignancy Mean')\n",
    "plt.ylabel('Malignancy Mean')\n",
    "\n",
    "# Mostre o gráfico\n",
    "plt.show()\n",
    "\n"
   ]
  },
  {
   "cell_type": "code",
   "execution_count": 22,
   "id": "8381f59c-67b4-404f-b1a2-73ec8d0f43ce",
   "metadata": {},
   "outputs": [
    {
     "name": "stdout",
     "output_type": "stream",
     "text": [
      "Número de colunas numéricas: 126\n",
      "Número de colunas não numéricas: 19\n"
     ]
    }
   ],
   "source": [
    "non_numeric_columns = features_df.select_dtypes(exclude=['number']).columns\n",
    "\n",
    "# Count the number of numeric and non-numeric columns\n",
    "num_non_numeric_columns = len(non_numeric_columns)\n",
    "num_numeric_columns = features_df.shape[1] - num_non_numeric_columns\n",
    "\n",
    "print(f\"Número de colunas numéricas: {num_numeric_columns}\")\n",
    "print(f\"Número de colunas não numéricas: {num_non_numeric_columns}\")"
   ]
  },
  {
   "cell_type": "markdown",
   "id": "68101bab-14f9-4df5-8325-25fd6a70e4fe",
   "metadata": {},
   "source": [
    "We are now going to remove non-numeric features from the dataset, as they do not contribute to predictive modeling in the context of predicting malignancy."
   ]
  },
  {
   "cell_type": "code",
   "execution_count": 25,
   "id": "75017111-ea18-40b4-8a5a-67e6401ca918",
   "metadata": {},
   "outputs": [
    {
     "name": "stdout",
     "output_type": "stream",
     "text": [
      "Número de colunas numéricas: 126\n",
      "Número de colunas não numéricas: 0\n"
     ]
    }
   ],
   "source": [
    "import pandas as pd\n",
    "\n",
    "csv_path = 'radiomic_features_pylidc_and_fourier.csv' \n",
    "features_df = pd.read_csv(csv_path)\n",
    "\n",
    "# Remover colunas não numéricas usando drop\n",
    "features_df.drop(columns=non_numeric_columns, inplace=True)\n",
    "\n",
    "features_df.to_csv(csv_path, index=False)\n",
    "\n",
    "\n",
    "# Just to check if the drop was successful \n",
    "non_numeric_columns = features_df.select_dtypes(exclude=['number']).columns\n",
    "\n",
    "num_non_numeric_columns = len(non_numeric_columns)\n",
    "num_numeric_columns = features_df.shape[1] - num_non_numeric_columns\n",
    "\n",
    "print(f\"Número de colunas numéricas: {num_numeric_columns}\")\n",
    "print(f\"Número de colunas não numéricas: {num_non_numeric_columns}\")\n"
   ]
  },
  {
   "cell_type": "code",
   "execution_count": null,
   "id": "d1387df2-46ee-4369-a923-2baf45b9d12e",
   "metadata": {},
   "outputs": [],
   "source": []
  }
 ],
 "metadata": {
  "kernelspec": {
   "display_name": "Python 3 (ipykernel)",
   "language": "python",
   "name": "python3"
  },
  "language_info": {
   "codemirror_mode": {
    "name": "ipython",
    "version": 3
   },
   "file_extension": ".py",
   "mimetype": "text/x-python",
   "name": "python",
   "nbconvert_exporter": "python",
   "pygments_lexer": "ipython3",
   "version": "3.8.19"
  }
 },
 "nbformat": 4,
 "nbformat_minor": 5
}
