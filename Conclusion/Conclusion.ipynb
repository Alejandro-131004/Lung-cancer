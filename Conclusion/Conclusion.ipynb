{
 "cells": [
  {
   "cell_type": "markdown",
   "id": "252e15ee-15e0-42ea-9dc2-d4356b4d8863",
   "metadata": {},
   "source": [
    "## Conclusion"
   ]
  },
  {
   "cell_type": "markdown",
   "id": "5215df20-b21e-4684-86b2-3fa916fc4446",
   "metadata": {},
   "source": [
    "In conclusion, applying feature selection **significantly enhances** model efficiency and performance consistency, particularly for datasets with complex feature structures like the **Combined and Radiomic datasets**. \n",
    "\n",
    "Using feature selection, such as **Lasso for SVM and Random Forest** approaches, demonstrates a noticeable **improvement** in model accuracy and stability. \n",
    "\n",
    "**SVM** and **Random Forest** models with these respective feature selection methods stand out as robust options, with each model's suitability depending on dataset characteristics and specific performance priorities (e.g., recall vs. precision)."
   ]
  },
  {
   "cell_type": "markdown",
   "id": "6117fa8f-996e-4448-8e5c-3108111b8530",
   "metadata": {},
   "source": [
    "Overall, feature selection **not only boosts model performance**, especially in the Combined dataset, but also **provides substantial benefits in the Radiomic dataset**. This approach reduces temporal complexity by focusing on the most relevant features, ultimately enhancing efficiency. \n",
    "\n",
    "Consequently, incorporating feature selection is recommended in future applications to optimize model accuracy and robustness."
   ]
  },
  {
   "cell_type": "markdown",
   "id": "82766f74-ff1c-4da5-9655-c7708d9e38f2",
   "metadata": {},
   "source": [
    "### Challenges"
   ]
  },
  {
   "cell_type": "markdown",
   "id": "749b508b-2ee4-4e2b-9789-f146b550cc3a",
   "metadata": {},
   "source": [
    "During the production of this work, we experienced several challenges.\n",
    "\n",
    "- One of the first difficulties was the unexpectedly large volume of data, which required far more storage than anticipated. Additionally, managing this data involved working with various data types we had not initially accounted for.\n",
    "\n",
    "- Another significant challenge was ensuring compatibility between different library versions, as maintaining consistent development required careful selection of versions that worked easily together.\n",
    "\n",
    "- Another challenging aspect was extracting the features and deciding on the best course of action based on our research. With the vast amount of information we collected, there were times when we felt uncertain about the next steps. For instance, handling cases with a classification of \"3\" on the malignancy scale was particularly difficult, as various articles recommended different procedures for these instances."
   ]
  },
  {
   "cell_type": "markdown",
   "id": "c3ffbb43-6ac2-465b-aede-6196d3a11f96",
   "metadata": {},
   "source": [
    "### Future Work"
   ]
  },
  {
   "cell_type": "markdown",
   "id": "6d504e3e-a38c-4e99-ad6e-ccadfeb38da3",
   "metadata": {},
   "source": [
    "For future developments, we aim to implement two additional methodologies that were initially planned but postponed due to time constraints."
   ]
  },
  {
   "cell_type": "markdown",
   "id": "db1554e9-d36f-46a2-91f8-995a36abc1ec",
   "metadata": {},
   "source": [
    "- **Deep Convolutional Neural Network (DCNN):** As outlined in this article 6 [[Article 6]](http://localhost:8888/edit/OneDrive/Documentos/GitHub/Lung-cancer/Research/6.%20Fusing%20texture,%20shape%20and%20deep%20model-learned%20information%20at%20decision%20level.pdf), building and training a DCNN could enhance model performance and enable more complex feature extraction and pattern recognition capabilities within the dataset. This approach could be valuable for capturing subtle details that simpler models might overlook, thereby potentially improving classification accuracy."
   ]
  },
  {
   "cell_type": "markdown",
   "id": "4b4309c5-b332-48a6-b43a-3ccbc8ace5cd",
   "metadata": {},
   "source": [
    "- **Support Vector Machine with Particle Swarm Optimization (SVM-PSO):** The article referenced here [[Article 7]](http://localhost:8888/edit/OneDrive/Documentos/GitHub/Lung-cancer/Research/7.%20Benign%20and%20Malignant%20Solitary%20Pulmonary%20Nodules%20Classification%20Baased%20on%20CNN%20and%20SVM.pdf)  describes the integration of SVM with PSO, a hybrid technique aimed at optimizing the model’s parameters. Implementing SVM-PSO could yield a more finely tuned model by leveraging PSO’s optimization abilities to refine SVM parameters, thus potentially increasing the robustness and performance of the classification model."
   ]
  },
  {
   "cell_type": "code",
   "execution_count": null,
   "id": "20a98bd8-2afc-4cc0-a819-1b4fb1cef26e",
   "metadata": {},
   "outputs": [],
   "source": []
  }
 ],
 "metadata": {
  "kernelspec": {
   "display_name": "Python 3 (ipykernel)",
   "language": "python",
   "name": "python3"
  },
  "language_info": {
   "codemirror_mode": {
    "name": "ipython",
    "version": 3
   },
   "file_extension": ".py",
   "mimetype": "text/x-python",
   "name": "python",
   "nbconvert_exporter": "python",
   "pygments_lexer": "ipython3",
   "version": "3.8.19"
  }
 },
 "nbformat": 4,
 "nbformat_minor": 5
}
