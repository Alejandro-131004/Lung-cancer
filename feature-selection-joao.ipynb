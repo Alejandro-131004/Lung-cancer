{
 "cells": [
  {
   "cell_type": "markdown",
   "metadata": {},
   "source": [
    "## Feature selection of pyradiomic feutures\n",
    " #### As refered in article 2 the most common algoritms for feuture selection are random forest, PCA(principle component analysis) and LASSO(least absolute shrinkage and selection operator) we'll be using all 3 and choosing the one that has the best results in several metrics"
   ]
  },
  {
   "cell_type": "markdown",
   "metadata": {},
   "source": [
    "library imports + dataset handling comemt further"
   ]
  },
  {
   "cell_type": "code",
   "execution_count": 1,
   "metadata": {},
   "outputs": [],
   "source": [
    "import numpy as np\n",
    "import pandas as pd\n",
    "from sklearn.datasets import make_classification\n",
    "from sklearn.ensemble import RandomForestClassifier\n",
    "from sklearn.model_selection import train_test_split\n",
    "from sklearn.preprocessing import MinMaxScaler\n",
    "from sklearn.preprocessing import StandardScaler\n",
    "from sklearn.linear_model import LogisticRegression\n",
    "from sklearn.decomposition import PCA\n",
    "from sklearn.metrics import accuracy_score\n",
    "from imblearn.combine import SMOTETomek\n",
    "from imblearn.over_sampling import ADASYN\n",
    "from imblearn.over_sampling import SMOTE\n",
    "import matplotlib.pyplot as plt\n",
    "import seaborn as sns"
   ]
  },
  {
   "cell_type": "markdown",
   "metadata": {},
   "source": [
    "## 0 Data preparation"
   ]
  },
  {
   "cell_type": "markdown",
   "metadata": {},
   "source": [
    "#### 0.0 Dataset loading and class normalization"
   ]
  },
  {
   "cell_type": "markdown",
   "metadata": {},
   "source": [
    "As indicated by the professor its important to normalize the classes because if so isn't done its setting a preference to a class over another so we decide to normalize all the columns betwin 0 and 1. For the malignancy class we classified the cases were the malignancy is 1 or 2 as bennign and 4 or 5 as malignent and deleted all elements of malignancy 3 as they don't make sence to use in a binnary classifier  "
   ]
  },
  {
   "cell_type": "code",
   "execution_count": 2,
   "metadata": {},
   "outputs": [
    {
     "name": "stdout",
     "output_type": "stream",
     "text": [
      "(6859, 153)\n",
      "       diagnostics_Image-original_Mean  diagnostics_Image-original_Minimum  \\\n",
      "count                      6859.000000                         6859.000000   \n",
      "mean                       -540.352213                         -949.656655   \n",
      "std                         158.899785                           71.932389   \n",
      "min                        -895.726852                        -1403.000000   \n",
      "25%                        -656.677452                        -1018.000000   \n",
      "50%                        -554.944444                         -960.000000   \n",
      "75%                        -442.556090                         -903.000000   \n",
      "max                         359.254545                         -263.000000   \n",
      "\n",
      "       diagnostics_Image-original_Maximum  diagnostics_Mask-original_VoxelNum  \\\n",
      "count                         6859.000000                         6859.000000   \n",
      "mean                           318.691209                          867.871410   \n",
      "std                            572.672501                         2097.654458   \n",
      "min                           -728.000000                            3.000000   \n",
      "25%                              6.000000                           86.000000   \n",
      "50%                            130.000000                          186.000000   \n",
      "75%                            476.500000                          579.000000   \n",
      "max                           3071.000000                        45329.000000   \n",
      "\n",
      "       diagnostics_Mask-original_VolumeNum  original_shape_Elongation  \\\n",
      "count                          6859.000000                6859.000000   \n",
      "mean                              1.029305                   0.420143   \n",
      "std                               0.322010                   0.188128   \n",
      "min                               1.000000                   0.073678   \n",
      "25%                               1.000000                   0.268469   \n",
      "50%                               1.000000                   0.374663   \n",
      "75%                               1.000000                   0.554109   \n",
      "max                              17.000000                   0.995429   \n",
      "\n",
      "       original_shape_Flatness  original_shape_LeastAxisLength  \\\n",
      "count              6859.000000                     6859.000000   \n",
      "mean                  0.207395                        3.292868   \n",
      "std                   0.157102                        2.483571   \n",
      "min                   0.000000                        0.000000   \n",
      "25%                   0.080668                        1.716853   \n",
      "50%                   0.158007                        2.623256   \n",
      "75%                   0.309561                        3.995434   \n",
      "max                   0.867709                       28.895006   \n",
      "\n",
      "       original_shape_MajorAxisLength  original_shape_Maximum2DDiameterColumn  \\\n",
      "count                     6859.000000                             6859.000000   \n",
      "mean                        22.566638                               25.541743   \n",
      "std                         18.884034                               22.317359   \n",
      "min                          1.425335                                2.575057   \n",
      "25%                         10.258116                               11.333481   \n",
      "50%                         16.603548                               18.000000   \n",
      "75%                         27.282085                               30.010556   \n",
      "max                        148.868910                              174.000000   \n",
      "\n",
      "       ...  fourier_hist_bin_0  fourier_hist_bin_1  fourier_hist_bin_2  \\\n",
      "count  ...         6859.000000         6859.000000         6859.000000   \n",
      "mean   ...            0.978431            0.012181            0.003642   \n",
      "std    ...            0.035040            0.018790            0.008674   \n",
      "min    ...            0.562500            0.000000            0.000000   \n",
      "25%    ...            0.975000            0.000809            0.000000   \n",
      "50%    ...            0.990138            0.005682            0.000000   \n",
      "75%    ...            0.997085            0.015470            0.003384   \n",
      "max    ...            0.999993            0.232143            0.140625   \n",
      "\n",
      "       fourier_hist_bin_3  fourier_hist_bin_4  fourier_hist_bin_5  \\\n",
      "count         6859.000000         6859.000000         6859.000000   \n",
      "mean             0.001387            0.000676            0.000336   \n",
      "std              0.005207            0.003539            0.002182   \n",
      "min              0.000000            0.000000            0.000000   \n",
      "25%              0.000000            0.000000            0.000000   \n",
      "50%              0.000000            0.000000            0.000000   \n",
      "75%              0.000000            0.000000            0.000000   \n",
      "max              0.096591            0.083333            0.041667   \n",
      "\n",
      "       fourier_hist_bin_6  fourier_hist_bin_7  fourier_hist_bin_8  \\\n",
      "count         6859.000000         6859.000000         6859.000000   \n",
      "mean             0.000247            0.000182            0.000135   \n",
      "std              0.001954            0.001586            0.001425   \n",
      "min              0.000000            0.000000            0.000000   \n",
      "25%              0.000000            0.000000            0.000000   \n",
      "50%              0.000000            0.000000            0.000000   \n",
      "75%              0.000000            0.000000            0.000000   \n",
      "max              0.062500            0.048000            0.037500   \n",
      "\n",
      "       fourier_hist_bin_9  \n",
      "count         6859.000000  \n",
      "mean             0.002781  \n",
      "std              0.003926  \n",
      "min              0.000005  \n",
      "25%              0.000519  \n",
      "50%              0.001623  \n",
      "75%              0.003571  \n",
      "max              0.074074  \n",
      "\n",
      "[8 rows x 134 columns]\n"
     ]
    }
   ],
   "source": [
    "dataset_path = r'Feature Extraction and Data Cleaning\\radiomic_features_pylidc_and_fourier_per_annotation.csv'  # Replace with the actual path to your CSV file\n",
    "df = pd.read_csv(dataset_path)\n",
    "# Get the shape of the dataset (rows, columns)\n",
    "print(df.shape)\n",
    "\n",
    "# Get basic statistics about the dataset\n",
    "print(df.describe())\n",
    "\n",
    "# Classifying the malignancy\n",
    "df['malignancy'] = df['malignancy'].replace({1: 0, 2: 0, 4: 1, 5: 1})  # 0 = benign, 1 = malignant\n",
    "df = df[df['malignancy'] != 3]  # Removing rows with malignancy 3\n",
    "\n",
    "# Drop Non-Numeric Columns\n",
    "df_numeric = df.select_dtypes(include=[float, int])\n",
    "\n",
    "# Separate Features and Target\n",
    "X = df_numeric.drop('malignancy', axis=1)  # Features\n",
    "y = df_numeric['malignancy']  # Target\n",
    "\n",
    "# Normalize Features Between 0 and 1\n",
    "scaler = MinMaxScaler()\n",
    "X_normalized = pd.DataFrame(scaler.fit_transform(X), columns=X.columns)\n",
    "\n",
    "# Create a New DataFrame\n",
    "processed_df = pd.concat([X_normalized, y.reset_index(drop=True)], axis=1)\n",
    "\n",
    "X_train, X_test, y_train, y_test = train_test_split(X_normalized, y, test_size=0.2, random_state=42)\n",
    "\n"
   ]
  },
  {
   "cell_type": "markdown",
   "metadata": {},
   "source": [
    "Due to the imbalence of the malign and benign class, as recomended by the professor we decided to apply some tecnics to balance the classes.\n",
    "In the provided documents we dind't find references to either undersampling or oversampling so we went to https://imbalanced-learn.org/ to learn more about the different tecnics and we saw that common oversampling tecnics are SMOTE that generates new samples by interpolating existing ones and ADASYN that generates samples like smote but focuses more on missclassified minority class samples. We decided to use both to see the diference betwin the two tecnics, about oversampling we decided not to use it due to the fact that we would be deliting half the samples of the bennign class and there are hybrid models like SMOTEENN and SMOTETomek that combine both undersampling and oversampling so we decided to use SMOTETomek since betwin the 2 is the least agressive in terms of removing samples while still cleaning the daatset of noisy data and compared to undersampling tecnics it reduces less samples"
   ]
  },
  {
   "cell_type": "markdown",
   "metadata": {},
   "source": [
    "#### 0.1 SMOTE"
   ]
  },
  {
   "cell_type": "code",
   "execution_count": 3,
   "metadata": {},
   "outputs": [],
   "source": [
    "# Apply SMOTE to balance the training data\n",
    "smote = SMOTE(random_state=42)\n",
    "X_train_resampled_, y_train_resampled = smote.fit_resample(X_train, y_train)\n",
    "\n",
    "# X_train_resampled and y_train_resampled are your balanced training sets"
   ]
  },
  {
   "cell_type": "markdown",
   "metadata": {},
   "source": [
    "#### 0.2 ADASYN"
   ]
  },
  {
   "cell_type": "code",
   "execution_count": 4,
   "metadata": {},
   "outputs": [],
   "source": [
    "adasyn = ADASYN(random_state=42)\n",
    "X_train_resampled_adasyn, y_train_resampled_adasyn = adasyn.fit_resample(X_train, y_train)"
   ]
  },
  {
   "cell_type": "markdown",
   "metadata": {},
   "source": [
    "#### 0.3 SMOTETomek"
   ]
  },
  {
   "cell_type": "code",
   "execution_count": 5,
   "metadata": {},
   "outputs": [],
   "source": [
    "smote_tomek = SMOTETomek(random_state=42)\n",
    "X_train_resampled_smote_tomek, y_train_resampled_smote_tomek = smote_tomek.fit_resample(X_train, y_train)\n"
   ]
  },
  {
   "cell_type": "markdown",
   "metadata": {},
   "source": [
    "## 1 Feature selection"
   ]
  },
  {
   "cell_type": "markdown",
   "metadata": {},
   "source": [
    "##### 1.1 Random forest"
   ]
  },
  {
   "cell_type": "code",
   "execution_count": 6,
   "metadata": {},
   "outputs": [
    {
     "name": "stdout",
     "output_type": "stream",
     "text": [
      "0.8683901292596945\n"
     ]
    }
   ],
   "source": [
    "# Initialize and train the Random Forest Classifier\n",
    "rf = RandomForestClassifier(n_estimators=100, random_state=42)\n",
    "X_train, X_test, y_train, y_test = train_test_split(X, y, test_size=0.2,random_state=42)\n",
    "\n",
    "rf.fit(X_train, y_train)\n",
    "\n",
    "# Make predictions and calculate accuracy before feature selection\n",
    "y_pred = rf.predict(X_test)\n",
    "initial_accuracy = accuracy_score(y_test, y_pred)\n",
    "print(initial_accuracy)\n"
   ]
  },
  {
   "cell_type": "code",
   "execution_count": 7,
   "metadata": {},
   "outputs": [
    {
     "data": {
      "image/png": "[encoded data removed]",
      "text/plain": [
       "<Figure size 1000x600 with 1 Axes>"
      ]
     },
     "metadata": {},
     "output_type": "display_data"
    }
   ],
   "source": [
    "# Get feature importances\n",
    "feature_importances = rf.feature_importances_\n",
    "\n",
    "# Create a DataFrame for visualization\n",
    "feature_importance_df = pd.DataFrame({\n",
    "    'Feature': X_train.columns,\n",
    "    'Importance': feature_importances\n",
    "})\n",
    "\n",
    "# Sort the DataFrame by importance\n",
    "feature_importance_df = feature_importance_df.sort_values(by='Importance', ascending=False)\n",
    "feature_importance_df_small = feature_importance_df.head(20)\n",
    "\n",
    "# Plot feature importances\n",
    "plt.figure(figsize=(10, 6))\n",
    "sns.barplot(x='Importance', y='Feature', data=feature_importance_df_small)\n",
    "plt.title('Feature Importance')\n",
    "plt.show()\n"
   ]
  },
  {
   "cell_type": "code",
   "execution_count": 8,
   "metadata": {},
   "outputs": [
    {
     "name": "stdout",
     "output_type": "stream",
     "text": [
      "Accuracy before feature selection: 0.8684\n",
      "Accuracy after feature selection: 0.8884\n"
     ]
    }
   ],
   "source": [
    "# Select top 5 features (as an example)\n",
    "top_features = feature_importance_df.head(40)['Feature'].values\n",
    "\n",
    "# Create a new dataset with only the top features\n",
    "X_train_selected = X_train[top_features]\n",
    "X_test_selected = X_test[top_features]\n",
    "\n",
    "\n",
    "# Train the classifier with selected features\n",
    "rf_selected = RandomForestClassifier(n_estimators=100, random_state=42)\n",
    "rf_selected.fit(X_train_selected, y_train)\n",
    "\n",
    "# Make predictions and calculate accuracy after feature selection\n",
    "y_pred_selected = rf_selected.predict(X_test_selected)\n",
    "selected_accuracy = accuracy_score(y_test, y_pred_selected)\n",
    "\n",
    "print(f'Accuracy before feature selection: {initial_accuracy:.4f}')\n",
    "print(f'Accuracy after feature selection: {selected_accuracy:.4f}')\n"
   ]
  },
  {
   "cell_type": "markdown",
   "metadata": {},
   "source": [
    "#### 1.2 LASSO"
   ]
  },
  {
   "cell_type": "code",
   "execution_count": 9,
   "metadata": {},
   "outputs": [
    {
     "name": "stdout",
     "output_type": "stream",
     "text": [
      "Selected features: [  0   1   2   4   5   6   8  11  12  14  15  16  17  18  20  21  22  23\n",
      "  24  26  29  30  32  33  34  35  39  40  46  47  48  49  50  51  54  56\n",
      "  57  59  61  63  64  65  69  70  71  73  80  83  84  87  92  95  97  98\n",
      " 101 103 106 107 108 109 111 112 113 114 115 116 117 118 119 120 121 122\n",
      " 123 125 126 127 128 129 130 131]\n",
      "Selected feature names: Index(['diagnostics_Image-original_Mean', 'diagnostics_Image-original_Minimum',\n",
      "       'diagnostics_Image-original_Maximum',\n",
      "       'diagnostics_Mask-original_VolumeNum', 'original_shape_Elongation',\n",
      "       'original_shape_Flatness', 'original_shape_MajorAxisLength',\n",
      "       'original_shape_Maximum2DDiameterSlice',\n",
      "       'original_shape_Maximum3DDiameter', 'original_shape_MinorAxisLength',\n",
      "       'original_shape_Sphericity', 'original_shape_SurfaceArea',\n",
      "       'original_shape_SurfaceVolumeRatio', 'original_shape_VoxelVolume',\n",
      "       'original_firstorder_90Percentile', 'original_firstorder_Energy',\n",
      "       'original_firstorder_Entropy', 'original_firstorder_InterquartileRange',\n",
      "       'original_firstorder_Kurtosis',\n",
      "       'original_firstorder_MeanAbsoluteDeviation',\n",
      "       'original_firstorder_Minimum', 'original_firstorder_Range',\n",
      "       'original_firstorder_RootMeanSquared', 'original_firstorder_Skewness',\n",
      "       'original_firstorder_TotalEnergy', 'original_firstorder_Uniformity',\n",
      "       'original_glcm_ClusterShade', 'original_glcm_ClusterTendency',\n",
      "       'original_glcm_Id', 'original_glcm_Idm', 'original_glcm_Idmn',\n",
      "       'original_glcm_Idn', 'original_glcm_Imc1', 'original_glcm_Imc2',\n",
      "       'original_glcm_JointEnergy', 'original_glcm_MCC',\n",
      "       'original_glcm_MaximumProbability', 'original_glcm_SumEntropy',\n",
      "       'original_gldm_DependenceEntropy',\n",
      "       'original_gldm_DependenceNonUniformityNormalized',\n",
      "       'original_gldm_DependenceVariance',\n",
      "       'original_gldm_GrayLevelNonUniformity',\n",
      "       'original_gldm_LargeDependenceHighGrayLevelEmphasis',\n",
      "       'original_gldm_LargeDependenceLowGrayLevelEmphasis',\n",
      "       'original_gldm_LowGrayLevelEmphasis',\n",
      "       'original_gldm_SmallDependenceHighGrayLevelEmphasis',\n",
      "       'original_glrlm_LongRunHighGrayLevelEmphasis',\n",
      "       'original_glrlm_RunEntropy', 'original_glrlm_RunLengthNonUniformity',\n",
      "       'original_glrlm_RunVariance',\n",
      "       'original_glszm_GrayLevelNonUniformityNormalized',\n",
      "       'original_glszm_LargeAreaEmphasis',\n",
      "       'original_glszm_LargeAreaLowGrayLevelEmphasis',\n",
      "       'original_glszm_LowGrayLevelZoneEmphasis',\n",
      "       'original_glszm_SmallAreaEmphasis',\n",
      "       'original_glszm_SmallAreaLowGrayLevelEmphasis',\n",
      "       'original_glszm_ZoneVariance', 'original_ngtdm_Busyness',\n",
      "       'original_ngtdm_Coarseness', 'original_ngtdm_Complexity',\n",
      "       'original_ngtdm_Strength', 'subtlety', 'internalStructure',\n",
      "       'calcification', 'sphericity', 'margin', 'lobulation', 'spiculation',\n",
      "       'texture', 'diameter', 'surface_area', 'volume', 'fourier_hist_bin_0',\n",
      "       'fourier_hist_bin_2', 'fourier_hist_bin_3', 'fourier_hist_bin_4',\n",
      "       'fourier_hist_bin_5', 'fourier_hist_bin_6', 'fourier_hist_bin_7',\n",
      "       'fourier_hist_bin_8'],\n",
      "      dtype='object')\n"
     ]
    }
   ],
   "source": [
    "# Convert the continuous target into binary labels (benign/malignant)\n",
    "threshold = 0.5  # Assuming values >= 0.5 are malignant\n",
    "y_binary = np.where(y >= threshold, 1, 0)  # 1 for malignant, 0 for benign\n",
    "\n",
    "X_train, X_test, y_train, y_test = train_test_split(X, y, test_size=0.2,random_state=42)\n",
    "\n",
    "\n",
    "# Standardize the features (important for LASSO)\n",
    "scaler = StandardScaler()\n",
    "X_train_scaled = scaler.fit_transform(X_train)\n",
    "X_test_scaled = scaler.transform(X_test)\n",
    "\n",
    "# Train a Logistic Regression model with L1 (LASSO) regularization\n",
    "lasso = LogisticRegression(penalty='l1', solver='liblinear', C=1.0, max_iter=1000)\n",
    "lasso.fit(X_train_scaled, y_train)\n",
    "\n",
    "# Get the coefficients\n",
    "coefficients = lasso.coef_\n",
    "\n",
    "# Find the indices of the non-zero coefficients\n",
    "non_zero_features = np.where(coefficients != 0)[1]\n",
    "non_zero_features = np.unique(non_zero_features)\n",
    "# Print the selected features\n",
    "print(\"Selected features:\", non_zero_features)\n",
    "\n",
    "# You can map back these indices to the original feature names if needed\n",
    "selected_feature_names = X.columns[non_zero_features]\n",
    "print(\"Selected feature names:\", selected_feature_names)"
   ]
  },
  {
   "cell_type": "markdown",
   "metadata": {},
   "source": [
    "#### 1.3 PCA"
   ]
  },
  {
   "cell_type": "code",
   "execution_count": 10,
   "metadata": {},
   "outputs": [
    {
     "name": "stdout",
     "output_type": "stream",
     "text": [
      "Feature Importance:\n",
      "                                                                     Feature  \\\n",
      "original_glrlm_GrayLevelNonUniformity  original_glrlm_GrayLevelNonUniformity   \n",
      "original_glcm_Idmn                                        original_glcm_Idmn   \n",
      "original_glcm_Contrast                                original_glcm_Contrast   \n",
      "original_gldm_DependenceVariance            original_gldm_DependenceVariance   \n",
      "original_firstorder_Minimum                      original_firstorder_Minimum   \n",
      "...                                                                      ...   \n",
      "fourier_hist_bin_4                                        fourier_hist_bin_4   \n",
      "fourier_hist_bin_7                                        fourier_hist_bin_7   \n",
      "fourier_hist_bin_5                                        fourier_hist_bin_5   \n",
      "fourier_hist_bin_0                                        fourier_hist_bin_0   \n",
      "internalStructure                                          internalStructure   \n",
      "\n",
      "                                       Importance  \n",
      "original_glrlm_GrayLevelNonUniformity    8.710777  \n",
      "original_glcm_Idmn                       8.692131  \n",
      "original_glcm_Contrast                   8.582475  \n",
      "original_gldm_DependenceVariance         8.514474  \n",
      "original_firstorder_Minimum              8.348001  \n",
      "...                                           ...  \n",
      "fourier_hist_bin_4                       4.852986  \n",
      "fourier_hist_bin_7                       4.456892  \n",
      "fourier_hist_bin_5                       4.286059  \n",
      "fourier_hist_bin_0                       4.076036  \n",
      "internalStructure                        3.724745  \n",
      "\n",
      "[133 rows x 2 columns]\n",
      "\n",
      "Top 10 features based on PCA:\n",
      "                                                                                              Feature  \\\n",
      "original_glrlm_GrayLevelNonUniformity                           original_glrlm_GrayLevelNonUniformity   \n",
      "original_glcm_Idmn                                                                 original_glcm_Idmn   \n",
      "original_glcm_Contrast                                                         original_glcm_Contrast   \n",
      "original_gldm_DependenceVariance                                     original_gldm_DependenceVariance   \n",
      "original_firstorder_Minimum                                               original_firstorder_Minimum   \n",
      "original_gldm_LargeDependenceHighGrayLevelEmphasis  original_gldm_LargeDependenceHighGrayLevelEmph...   \n",
      "original_glcm_Idn                                                                   original_glcm_Idn   \n",
      "original_glcm_MaximumProbability                                     original_glcm_MaximumProbability   \n",
      "original_glrlm_RunVariance                                                 original_glrlm_RunVariance   \n",
      "original_gldm_SmallDependenceLowGrayLevelEmphasis   original_gldm_SmallDependenceLowGrayLevelEmphasis   \n",
      "\n",
      "                                                    Importance  \n",
      "original_glrlm_GrayLevelNonUniformity                 8.710777  \n",
      "original_glcm_Idmn                                    8.692131  \n",
      "original_glcm_Contrast                                8.582475  \n",
      "original_gldm_DependenceVariance                      8.514474  \n",
      "original_firstorder_Minimum                           8.348001  \n",
      "original_gldm_LargeDependenceHighGrayLevelEmphasis    8.301889  \n",
      "original_glcm_Idn                                     8.228859  \n",
      "original_glcm_MaximumProbability                      8.170285  \n",
      "original_glrlm_RunVariance                            8.143334  \n",
      "original_gldm_SmallDependenceLowGrayLevelEmphasis     8.097943  \n"
     ]
    }
   ],
   "source": [
    "# Step 1: Standardize the data\n",
    "scaler = StandardScaler()\n",
    "X_train, X_test, y_train, y_test = train_test_split(X, y, test_size=0.2,random_state=42)\n",
    "X_scaled = scaler.fit_transform(X)\n",
    "\n",
    "# Step 2: Apply PCA\n",
    "pca = PCA(n_components=X.shape[1])  # Fit PCA to all features\n",
    "X_pca = pca.fit_transform(X_scaled)\n",
    "\n",
    "# Step 3: Create a DataFrame with feature importance\n",
    "pca_df = pd.DataFrame(pca.components_, columns=X.columns)\n",
    "\n",
    "# Step 4: Calculate the absolute value of the feature weights\n",
    "feature_importance = np.abs(pca_df).sum(axis=0)\n",
    "\n",
    "# Step 5: Create a DataFrame to see feature importance\n",
    "feature_importance_df = pd.DataFrame({\n",
    "    'Feature': X.columns,\n",
    "    'Importance': feature_importance\n",
    "})\n",
    "\n",
    "# Sort features by importance\n",
    "feature_importance_df = feature_importance_df.sort_values(by='Importance', ascending=False)\n",
    "\n",
    "# Step 6: Print the feature importance\n",
    "print(\"Feature Importance:\")\n",
    "print(feature_importance_df)\n",
    "\n",
    "# Optional: Select top N features\n",
    "N = 10  # Change this to the number of top features you want\n",
    "top_features = feature_importance_df.head(N)\n",
    "print(f\"\\nTop {N} features based on PCA:\")\n",
    "print(top_features)"
   ]
  },
  {
   "cell_type": "markdown",
   "metadata": {},
   "source": [
    "## 2 Classifiction models"
   ]
  },
  {
   "cell_type": "markdown",
   "metadata": {},
   "source": [
    "#### 2.1 Logistic regression"
   ]
  },
  {
   "cell_type": "code",
   "execution_count": null,
   "metadata": {},
   "outputs": [],
   "source": []
  },
  {
   "cell_type": "markdown",
   "metadata": {},
   "source": [
    "#### 2.2 Random forest"
   ]
  },
  {
   "cell_type": "code",
   "execution_count": null,
   "metadata": {},
   "outputs": [],
   "source": []
  },
  {
   "cell_type": "markdown",
   "metadata": {},
   "source": [
    "#### 2.3 Svm"
   ]
  },
  {
   "cell_type": "code",
   "execution_count": null,
   "metadata": {},
   "outputs": [],
   "source": []
  },
  {
   "cell_type": "markdown",
   "metadata": {},
   "source": [
    "## 3 Performance comparation"
   ]
  }
 ],
 "metadata": {
  "kernelspec": {
   "display_name": "Python 3",
   "language": "python",
   "name": "python3"
  },
  "language_info": {
   "codemirror_mode": {
    "name": "ipython",
    "version": 3
   },
   "file_extension": ".py",
   "mimetype": "text/x-python",
   "name": "python",
   "nbconvert_exporter": "python",
   "pygments_lexer": "ipython3",
   "version": "3.12.6"
  }
 },
 "nbformat": 4,
 "nbformat_minor": 2
}
