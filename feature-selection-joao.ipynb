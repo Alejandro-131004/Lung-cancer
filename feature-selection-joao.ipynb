{
 "cells": [
  {
   "cell_type": "markdown",
   "metadata": {},
   "source": [
    "## Feature selection of pyradiomic feutures\n",
    " #### As refered in article 2 the most common algoritms for feuture selection are random forest, PCA(principle component analysis) and LASSO(least absolute shrinkage and selection operator) we'll be using all 3 and choosing the one that has the best results in several metrics"
   ]
  },
  {
   "cell_type": "markdown",
   "metadata": {},
   "source": [
    "library imports + dataset handling comemt further"
   ]
  },
  {
   "cell_type": "code",
   "execution_count": 4,
   "metadata": {},
   "outputs": [],
   "source": [
    "import numpy as np\n",
    "import pandas as pd\n",
    "from sklearn.datasets import make_classification\n",
    "from sklearn.ensemble import RandomForestClassifier\n",
    "from sklearn.model_selection import train_test_split\n",
    "from sklearn.preprocessing import StandardScaler\n",
    "from sklearn.linear_model import LogisticRegression\n",
    "from sklearn.decomposition import PCA\n",
    "from sklearn.metrics import accuracy_score\n",
    "import matplotlib.pyplot as plt\n",
    "import seaborn as sns"
   ]
  },
  {
   "cell_type": "code",
   "execution_count": null,
   "metadata": {},
   "outputs": [],
   "source": [
    "dataset_path = 'radiomic_features_pylidc_and_fourier.csv'  # Replace with the actual path to your CSV file\n",
    "data = pd.read_csv(dataset_path)\n",
    "# Get the shape of the dataset (rows, columns)\n",
    "print(data.shape)\n",
    "\n",
    "# Get basic statistics about the dataset\n",
    "print(data.describe())\n",
    "X = data.drop(columns=['malignancy_mode','malignancy_mean'])  # Replace 'target' with the actual column name of your labels\n",
    "y = data['malignancy_mode']\n",
    "X_train, X_test, y_train, y_test = train_test_split(X, y, test_size=0.2)\n"
   ]
  },
  {
   "cell_type": "markdown",
   "metadata": {},
   "source": [
    "##### 1.1 Random forest"
   ]
  },
  {
   "cell_type": "code",
   "execution_count": null,
   "metadata": {},
   "outputs": [],
   "source": [
    "# Initialize and train the Random Forest Classifier\n",
    "rf = RandomForestClassifier(n_estimators=100, random_state=42)\n",
    "X_train_rf = X_train\n",
    "y_train_rf = y_train\n",
    "rf.fit(X_train_rf, y_train_rf)\n",
    "\n",
    "# Make predictions and calculate accuracy before feature selection\n",
    "y_pred = rf.predict(X_test)\n",
    "initial_accuracy = accuracy_score(y_test, y_pred)\n",
    "print(initial_accuracy)\n"
   ]
  },
  {
   "cell_type": "code",
   "execution_count": null,
   "metadata": {},
   "outputs": [],
   "source": [
    "# Get feature importances\n",
    "feature_importances = rf.feature_importances_\n",
    "\n",
    "# Create a DataFrame for visualization\n",
    "feature_importance_df = pd.DataFrame({\n",
    "    'Feature': X_train_rf.columns,\n",
    "    'Importance': feature_importances\n",
    "})\n",
    "\n",
    "# Sort the DataFrame by importance\n",
    "feature_importance_df = feature_importance_df.sort_values(by='Importance', ascending=False)\n",
    "feature_importance_df = feature_importance_df\n",
    "\n",
    "# Plot feature importances\n",
    "plt.figure(figsize=(10, 6))\n",
    "sns.barplot(x='Importance', y='Feature', data=feature_importance_df)\n",
    "plt.title('Feature Importance')\n",
    "plt.show()\n"
   ]
  },
  {
   "cell_type": "code",
   "execution_count": null,
   "metadata": {},
   "outputs": [],
   "source": [
    "# Select top 5 features (as an example)\n",
    "top_features = feature_importance_df.head(10)['Feature'].values\n",
    "\n",
    "# Create a new dataset with only the top features\n",
    "X_train_selected = X_train_rf[top_features]\n",
    "X_test_selected = X_test[top_features]\n",
    "\n",
    "\n",
    "# Train the classifier with selected features\n",
    "rf_selected = RandomForestClassifier(n_estimators=100, random_state=42)\n",
    "rf_selected.fit(X_train_selected, y_train)\n",
    "\n",
    "# Make predictions and calculate accuracy after feature selection\n",
    "y_pred_selected = rf_selected.predict(X_test_selected)\n",
    "selected_accuracy = accuracy_score(y_test, y_pred_selected)\n",
    "\n",
    "print(f'Accuracy before feature selection: {initial_accuracy:.4f}')\n",
    "print(f'Accuracy after feature selection: {selected_accuracy:.4f}')\n"
   ]
  },
  {
   "cell_type": "markdown",
   "metadata": {},
   "source": [
    "#### 1.2 LASSO"
   ]
  },
  {
   "cell_type": "code",
   "execution_count": null,
   "metadata": {},
   "outputs": [],
   "source": [
    "# Convert the continuous target into binary labels (benign/malignant)\n",
    "threshold = 0.5  # Assuming values >= 0.5 are malignant\n",
    "y_binary = np.where(y >= threshold, 1, 0)  # 1 for malignant, 0 for benign\n",
    "\n",
    "X_train_scaled = X_train\n",
    "X_test_scaled = X_test\n",
    "\n",
    "\n",
    "# Standardize the features (important for LASSO)\n",
    "scaler = StandardScaler()\n",
    "X_train_scaled = scaler.fit_transform(X_train)\n",
    "X_test_scaled = scaler.transform(X_test)\n",
    "\n",
    "# Train a Logistic Regression model with L1 (LASSO) regularization\n",
    "lasso = LogisticRegression(penalty='l1', solver='liblinear', C=1.0, max_iter=1000)\n",
    "lasso.fit(X_train_scaled, y_train)\n",
    "\n",
    "# Get the coefficients\n",
    "coefficients = lasso.coef_\n",
    "\n",
    "# Find the indices of the non-zero coefficients\n",
    "non_zero_features = np.where(coefficients != 0)[1]\n",
    "non_zero_features = np.unique(non_zero_features)\n",
    "# Print the selected features\n",
    "print(\"Selected features:\", non_zero_features)\n",
    "\n",
    "# You can map back these indices to the original feature names if needed\n",
    "selected_feature_names = X.columns[non_zero_features]\n",
    "print(\"Selected feature names:\", selected_feature_names)"
   ]
  },
  {
   "cell_type": "markdown",
   "metadata": {},
   "source": [
    "#### 1.3 PCA"
   ]
  },
  {
   "cell_type": "code",
   "execution_count": null,
   "metadata": {},
   "outputs": [],
   "source": [
    "# Step 1: Standardize the data\n",
    "scaler = StandardScaler()\n",
    "X_scaled = scaler.fit_transform(X)\n",
    "\n",
    "# Step 2: Apply PCA\n",
    "pca = PCA(n_components=X.shape[1])  # Fit PCA to all features\n",
    "X_pca = pca.fit_transform(X_scaled)\n",
    "\n",
    "# Step 3: Create a DataFrame with feature importance\n",
    "pca_df = pd.DataFrame(pca.components_, columns=X.columns)\n",
    "\n",
    "# Step 4: Calculate the absolute value of the feature weights\n",
    "feature_importance = np.abs(pca_df).sum(axis=0)\n",
    "\n",
    "# Step 5: Create a DataFrame to see feature importance\n",
    "feature_importance_df = pd.DataFrame({\n",
    "    'Feature': X.columns,\n",
    "    'Importance': feature_importance\n",
    "})\n",
    "\n",
    "# Sort features by importance\n",
    "feature_importance_df = feature_importance_df.sort_values(by='Importance', ascending=False)\n",
    "\n",
    "# Step 6: Print the feature importance\n",
    "print(\"Feature Importance:\")\n",
    "print(feature_importance_df)\n",
    "\n",
    "# Optional: Select top N features\n",
    "N = 10  # Change this to the number of top features you want\n",
    "top_features = feature_importance_df.head(N)\n",
    "print(f\"\\nTop {N} features based on PCA:\")\n",
    "print(top_features)"
   ]
  }
 ],
 "metadata": {
  "kernelspec": {
   "display_name": "Python 3",
   "language": "python",
   "name": "python3"
  },
  "language_info": {
   "codemirror_mode": {
    "name": "ipython",
    "version": 3
   },
   "file_extension": ".py",
   "mimetype": "text/x-python",
   "name": "python",
   "nbconvert_exporter": "python",
   "pygments_lexer": "ipython3",
   "version": "3.12.6"
  }
 },
 "nbformat": 4,
 "nbformat_minor": 2
}
